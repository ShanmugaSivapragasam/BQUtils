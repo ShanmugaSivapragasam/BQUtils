{
  "nbformat": 4,
  "nbformat_minor": 0,
  "metadata": {
    "colab": {
      "name": "Beam-CombinerSample",
      "provenance": [],
      "authorship_tag": "ABX9TyOmOhBSqxUS4/PnA9ATQptB",
      "include_colab_link": true
    },
    "kernelspec": {
      "name": "python3",
      "display_name": "Python 3"
    }
  },
  "cells": [
    {
      "cell_type": "markdown",
      "metadata": {
        "id": "view-in-github",
        "colab_type": "text"
      },
      "source": [
        "<a href=\"https://colab.research.google.com/github/ShanmugaSivapragasam/BQUtils/blob/master/Beam_CombinerSample.ipynb\" target=\"_parent\"><img src=\"https://colab.research.google.com/assets/colab-badge.svg\" alt=\"Open In Colab\"/></a>"
      ]
    },
    {
      "cell_type": "code",
      "metadata": {
        "id": "IkFyodhNkZZd",
        "colab_type": "code",
        "colab": {
          "base_uri": "https://localhost:8080/",
          "height": 272
        },
        "outputId": "b0e08fce-f0de-4783-d5ee-10f650f9c798"
      },
      "source": [
        "!pip install apache-beam -q"
      ],
      "execution_count": 2,
      "outputs": [
        {
          "output_type": "stream",
          "text": [
            "\u001b[K     |████████████████████████████████| 3.4MB 4.8MB/s \n",
            "\u001b[K     |████████████████████████████████| 59.2MB 65kB/s \n",
            "\u001b[K     |████████████████████████████████| 235kB 64.4MB/s \n",
            "\u001b[K     |████████████████████████████████| 81kB 10.0MB/s \n",
            "\u001b[K     |████████████████████████████████| 1.2MB 48.5MB/s \n",
            "\u001b[K     |████████████████████████████████| 61kB 8.6MB/s \n",
            "\u001b[K     |████████████████████████████████| 51kB 6.4MB/s \n",
            "\u001b[K     |████████████████████████████████| 112kB 51.5MB/s \n",
            "\u001b[?25h  Building wheel for oauth2client (setup.py) ... \u001b[?25l\u001b[?25hdone\n",
            "  Building wheel for hdfs (setup.py) ... \u001b[?25l\u001b[?25hdone\n",
            "  Building wheel for avro-python3 (setup.py) ... \u001b[?25l\u001b[?25hdone\n",
            "\u001b[31mERROR: pydrive 1.3.1 has requirement oauth2client>=4.0.0, but you'll have oauth2client 3.0.0 which is incompatible.\u001b[0m\n",
            "\u001b[31mERROR: chainer 6.5.0 has requirement typing<=3.6.6, but you'll have typing 3.7.4.1 which is incompatible.\u001b[0m\n",
            "\u001b[31mERROR: chainer 6.5.0 has requirement typing-extensions<=3.6.6, but you'll have typing-extensions 3.7.4.1 which is incompatible.\u001b[0m\n",
            "\u001b[31mERROR: albumentations 0.1.12 has requirement imgaug<0.2.7,>=0.2.5, but you'll have imgaug 0.2.9 which is incompatible.\u001b[0m\n"
          ],
          "name": "stdout"
        }
      ]
    },
    {
      "cell_type": "code",
      "metadata": {
        "id": "iZ8EUye7k2Xr",
        "colab_type": "code",
        "colab": {}
      },
      "source": [
        "import apache_beam as beam"
      ],
      "execution_count": 0,
      "outputs": []
    },
    {
      "cell_type": "code",
      "metadata": {
        "id": "1vhAmS8rlC0n",
        "colab_type": "code",
        "colab": {
          "base_uri": "https://localhost:8080/",
          "height": 34
        },
        "outputId": "d37f498f-ac83-4a0c-ca8e-7ae170e216e7"
      },
      "source": [
        "class AverageFn(beam.CombineFn):\n",
        "  def create_accumulator(self):\n",
        "    return (0.0, 0)\n",
        "\n",
        "  def add_input(self,sum_count, input ):\n",
        "    (sum, count) = sum_count\n",
        "    return sum+input, count+1\n",
        "\n",
        "  def merge_accumulators(self, accumulators):\n",
        "    ind_sums, ind_counts = zip(*accumulators)\n",
        "    return sum(ind_sums), sum(ind_counts)\n",
        "\n",
        "  def extract_output(self, sum_count):\n",
        "    (sum,count) = sum_count\n",
        "    return sum/count if count else float('NaN')\n",
        "\n",
        "\n",
        "\n",
        "pipe_main = beam.Pipeline()\n",
        "output = ( pipe_main \n",
        "          | beam.Create([100, 20, 30, 40, 50, 60, 70])\n",
        "          | beam.CombineGlobally(AverageFn())\n",
        "          | beam.io.WriteToText('mean-final', '.txt')\n",
        "          \n",
        ")\n",
        "pipe_main.run()\n",
        "\n",
        "!cat mean-final-00000-of-00001.txt"
      ],
      "execution_count": 13,
      "outputs": [
        {
          "output_type": "stream",
          "text": [
            "52.857142857142854\n"
          ],
          "name": "stdout"
        }
      ]
    },
    {
      "cell_type": "code",
      "metadata": {
        "id": "sbOIP0pWmAO9",
        "colab_type": "code",
        "colab": {
          "base_uri": "https://localhost:8080/",
          "height": 85
        },
        "outputId": "1b8ed36f-b3ff-4a87-dcd9-07344bb4f817"
      },
      "source": [
        "!ls\n",
        "####5\n",
        "!cat mean-final-*"
      ],
      "execution_count": 12,
      "outputs": [
        {
          "output_type": "stream",
          "text": [
            "beam-temp-mean-4a181bf250e411eabb500242ac1c0002  mean-final-00000-of-00001.txt\n",
            "beam-temp-mean-a6af7eaa50e411ea94a10242ac1c0002  sample_data\n",
            "mean-00000-of-00001.txt\n",
            "40.0\n"
          ],
          "name": "stdout"
        }
      ]
    },
    {
      "cell_type": "code",
      "metadata": {
        "id": "aBoKPoB4mRCL",
        "colab_type": "code",
        "colab": {}
      },
      "source": [
        ""
      ],
      "execution_count": 0,
      "outputs": []
    }
  ]
}